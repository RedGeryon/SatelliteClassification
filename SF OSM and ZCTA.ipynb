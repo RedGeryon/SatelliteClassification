{
 "cells": [
  {
   "cell_type": "code",
   "execution_count": null,
   "metadata": {},
   "outputs": [],
   "source": [
    "%matplotlib inline\n",
    "import pandas as pd\n",
    "import numpy as np\n",
    "import matplotlib.pyplot as plt\n",
    "import geopandas as gpd\n",
    "import missingno as msno\n",
    "\n",
    "shp_file = './tl_2017_us_zcta510/tl_2017_us_zcta510.shp'\n",
    "# osm_shp = './california-latest-free.shp'\n",
    "osm_landuse_shp = './SanFrancisco-shp/shape/gis_osm_landuse_a_free_1.shp'\n",
    "\n",
    "us = gpd.read_file(shp_file)\n",
    "# osm = gpd.read_file(osm_shp)\n",
    "osm_landuse = gpd.read_file(osm_landuse_shp)"
   ]
  }
 ],
 "metadata": {
  "kernelspec": {
   "display_name": "Python 3",
   "language": "python",
   "name": "python3"
  },
  "language_info": {
   "codemirror_mode": {
    "name": "ipython",
    "version": 3
   },
   "file_extension": ".py",
   "mimetype": "text/x-python",
   "name": "python",
   "nbconvert_exporter": "python",
   "pygments_lexer": "ipython3",
   "version": "3.6.6"
  }
 },
 "nbformat": 4,
 "nbformat_minor": 2
}
